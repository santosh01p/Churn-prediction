{
 "cells": [
  {
   "cell_type": "markdown",
   "metadata": {},
   "source": [
    "## Loading Libraraies\n"
   ]
  },
  {
   "cell_type": "code",
   "execution_count": 1,
   "metadata": {
    "collapsed": true
   },
   "outputs": [],
   "source": [
    "import numpy as np\n",
    "import pandas as pd\n",
    "import matplotlib.pyplot as plt\n",
    "%matplotlib inline\n",
    "import seaborn as sns"
   ]
  },
  {
   "cell_type": "markdown",
   "metadata": {},
   "source": [
    "Loading Data"
   ]
  },
  {
   "cell_type": "code",
   "execution_count": 3,
   "metadata": {},
   "outputs": [
    {
     "data": {
      "text/html": [
       "<div>\n",
       "<style scoped>\n",
       "    .dataframe tbody tr th:only-of-type {\n",
       "        vertical-align: middle;\n",
       "    }\n",
       "\n",
       "    .dataframe tbody tr th {\n",
       "        vertical-align: top;\n",
       "    }\n",
       "\n",
       "    .dataframe thead th {\n",
       "        text-align: right;\n",
       "    }\n",
       "</style>\n",
       "<table border=\"1\" class=\"dataframe\">\n",
       "  <thead>\n",
       "    <tr style=\"text-align: right;\">\n",
       "      <th></th>\n",
       "      <th>State</th>\n",
       "      <th>Account Length</th>\n",
       "      <th>Area Code</th>\n",
       "      <th>Phone</th>\n",
       "      <th>Int'l Plan</th>\n",
       "      <th>VMail Plan</th>\n",
       "      <th>VMail Message</th>\n",
       "      <th>Day Mins</th>\n",
       "      <th>Day Calls</th>\n",
       "      <th>Day Charge</th>\n",
       "      <th>...</th>\n",
       "      <th>Eve Calls</th>\n",
       "      <th>Eve Charge</th>\n",
       "      <th>Night Mins</th>\n",
       "      <th>Night Calls</th>\n",
       "      <th>Night Charge</th>\n",
       "      <th>Intl Mins</th>\n",
       "      <th>Intl Calls</th>\n",
       "      <th>Intl Charge</th>\n",
       "      <th>CustServ Calls</th>\n",
       "      <th>Churn?</th>\n",
       "    </tr>\n",
       "  </thead>\n",
       "  <tbody>\n",
       "    <tr>\n",
       "      <th>0</th>\n",
       "      <td>KS</td>\n",
       "      <td>128</td>\n",
       "      <td>415</td>\n",
       "      <td>382-4657</td>\n",
       "      <td>no</td>\n",
       "      <td>yes</td>\n",
       "      <td>25</td>\n",
       "      <td>265.1</td>\n",
       "      <td>110</td>\n",
       "      <td>45.07</td>\n",
       "      <td>...</td>\n",
       "      <td>99</td>\n",
       "      <td>16.78</td>\n",
       "      <td>244.7</td>\n",
       "      <td>91</td>\n",
       "      <td>11.01</td>\n",
       "      <td>10.0</td>\n",
       "      <td>3</td>\n",
       "      <td>2.70</td>\n",
       "      <td>1</td>\n",
       "      <td>False.</td>\n",
       "    </tr>\n",
       "    <tr>\n",
       "      <th>1</th>\n",
       "      <td>OH</td>\n",
       "      <td>107</td>\n",
       "      <td>415</td>\n",
       "      <td>371-7191</td>\n",
       "      <td>no</td>\n",
       "      <td>yes</td>\n",
       "      <td>26</td>\n",
       "      <td>161.6</td>\n",
       "      <td>123</td>\n",
       "      <td>27.47</td>\n",
       "      <td>...</td>\n",
       "      <td>103</td>\n",
       "      <td>16.62</td>\n",
       "      <td>254.4</td>\n",
       "      <td>103</td>\n",
       "      <td>11.45</td>\n",
       "      <td>13.7</td>\n",
       "      <td>3</td>\n",
       "      <td>3.70</td>\n",
       "      <td>1</td>\n",
       "      <td>False.</td>\n",
       "    </tr>\n",
       "    <tr>\n",
       "      <th>2</th>\n",
       "      <td>NJ</td>\n",
       "      <td>137</td>\n",
       "      <td>415</td>\n",
       "      <td>358-1921</td>\n",
       "      <td>no</td>\n",
       "      <td>no</td>\n",
       "      <td>0</td>\n",
       "      <td>243.4</td>\n",
       "      <td>114</td>\n",
       "      <td>41.38</td>\n",
       "      <td>...</td>\n",
       "      <td>110</td>\n",
       "      <td>10.30</td>\n",
       "      <td>162.6</td>\n",
       "      <td>104</td>\n",
       "      <td>7.32</td>\n",
       "      <td>12.2</td>\n",
       "      <td>5</td>\n",
       "      <td>3.29</td>\n",
       "      <td>0</td>\n",
       "      <td>False.</td>\n",
       "    </tr>\n",
       "    <tr>\n",
       "      <th>3</th>\n",
       "      <td>OH</td>\n",
       "      <td>84</td>\n",
       "      <td>408</td>\n",
       "      <td>375-9999</td>\n",
       "      <td>yes</td>\n",
       "      <td>no</td>\n",
       "      <td>0</td>\n",
       "      <td>299.4</td>\n",
       "      <td>71</td>\n",
       "      <td>50.90</td>\n",
       "      <td>...</td>\n",
       "      <td>88</td>\n",
       "      <td>5.26</td>\n",
       "      <td>196.9</td>\n",
       "      <td>89</td>\n",
       "      <td>8.86</td>\n",
       "      <td>6.6</td>\n",
       "      <td>7</td>\n",
       "      <td>1.78</td>\n",
       "      <td>2</td>\n",
       "      <td>False.</td>\n",
       "    </tr>\n",
       "    <tr>\n",
       "      <th>4</th>\n",
       "      <td>OK</td>\n",
       "      <td>75</td>\n",
       "      <td>415</td>\n",
       "      <td>330-6626</td>\n",
       "      <td>yes</td>\n",
       "      <td>no</td>\n",
       "      <td>0</td>\n",
       "      <td>166.7</td>\n",
       "      <td>113</td>\n",
       "      <td>28.34</td>\n",
       "      <td>...</td>\n",
       "      <td>122</td>\n",
       "      <td>12.61</td>\n",
       "      <td>186.9</td>\n",
       "      <td>121</td>\n",
       "      <td>8.41</td>\n",
       "      <td>10.1</td>\n",
       "      <td>3</td>\n",
       "      <td>2.73</td>\n",
       "      <td>3</td>\n",
       "      <td>False.</td>\n",
       "    </tr>\n",
       "  </tbody>\n",
       "</table>\n",
       "<p>5 rows × 21 columns</p>\n",
       "</div>"
      ],
      "text/plain": [
       "  State  Account Length  Area Code     Phone Int'l Plan VMail Plan  \\\n",
       "0    KS             128        415  382-4657         no        yes   \n",
       "1    OH             107        415  371-7191         no        yes   \n",
       "2    NJ             137        415  358-1921         no         no   \n",
       "3    OH              84        408  375-9999        yes         no   \n",
       "4    OK              75        415  330-6626        yes         no   \n",
       "\n",
       "   VMail Message  Day Mins  Day Calls  Day Charge   ...    Eve Calls  \\\n",
       "0             25     265.1        110       45.07   ...           99   \n",
       "1             26     161.6        123       27.47   ...          103   \n",
       "2              0     243.4        114       41.38   ...          110   \n",
       "3              0     299.4         71       50.90   ...           88   \n",
       "4              0     166.7        113       28.34   ...          122   \n",
       "\n",
       "   Eve Charge  Night Mins  Night Calls  Night Charge  Intl Mins  Intl Calls  \\\n",
       "0       16.78       244.7           91         11.01       10.0           3   \n",
       "1       16.62       254.4          103         11.45       13.7           3   \n",
       "2       10.30       162.6          104          7.32       12.2           5   \n",
       "3        5.26       196.9           89          8.86        6.6           7   \n",
       "4       12.61       186.9          121          8.41       10.1           3   \n",
       "\n",
       "   Intl Charge  CustServ Calls  Churn?  \n",
       "0         2.70               1  False.  \n",
       "1         3.70               1  False.  \n",
       "2         3.29               0  False.  \n",
       "3         1.78               2  False.  \n",
       "4         2.73               3  False.  \n",
       "\n",
       "[5 rows x 21 columns]"
      ]
     },
     "execution_count": 3,
     "metadata": {},
     "output_type": "execute_result"
    }
   ],
   "source": [
    "churn=pd.read_csv(\"churn.csv\")\n",
    "churn.head()"
   ]
  },
  {
   "cell_type": "markdown",
   "metadata": {},
   "source": [
    "# Data Exploration"
   ]
  },
  {
   "cell_type": "code",
   "execution_count": 4,
   "metadata": {},
   "outputs": [
    {
     "name": "stdout",
     "output_type": "stream",
     "text": [
      "<class 'pandas.core.frame.DataFrame'>\n",
      "RangeIndex: 3333 entries, 0 to 3332\n",
      "Data columns (total 21 columns):\n",
      "State             3333 non-null object\n",
      "Account Length    3333 non-null int64\n",
      "Area Code         3333 non-null int64\n",
      "Phone             3333 non-null object\n",
      "Int'l Plan        3333 non-null object\n",
      "VMail Plan        3333 non-null object\n",
      "VMail Message     3333 non-null int64\n",
      "Day Mins          3333 non-null float64\n",
      "Day Calls         3333 non-null int64\n",
      "Day Charge        3333 non-null float64\n",
      "Eve Mins          3333 non-null float64\n",
      "Eve Calls         3333 non-null int64\n",
      "Eve Charge        3333 non-null float64\n",
      "Night Mins        3333 non-null float64\n",
      "Night Calls       3333 non-null int64\n",
      "Night Charge      3333 non-null float64\n",
      "Intl Mins         3333 non-null float64\n",
      "Intl Calls        3333 non-null int64\n",
      "Intl Charge       3333 non-null float64\n",
      "CustServ Calls    3333 non-null int64\n",
      "Churn?            3333 non-null object\n",
      "dtypes: float64(8), int64(8), object(5)\n",
      "memory usage: 546.9+ KB\n"
     ]
    }
   ],
   "source": [
    "churn.info()"
   ]
  },
  {
   "cell_type": "markdown",
   "metadata": {},
   "source": [
    "Check for missing values"
   ]
  },
  {
   "cell_type": "code",
   "execution_count": 5,
   "metadata": {},
   "outputs": [
    {
     "data": {
      "text/plain": [
       "Index([], dtype='object')"
      ]
     },
     "execution_count": 5,
     "metadata": {},
     "output_type": "execute_result"
    }
   ],
   "source": [
    "#check missing values \n",
    "\n",
    "churn.columns[churn.isnull().any()]"
   ]
  },
  {
   "cell_type": "markdown",
   "metadata": {},
   "source": [
    "Out of 21 features , none of them have missing values"
   ]
  },
  {
   "cell_type": "code",
   "execution_count": 6,
   "metadata": {},
   "outputs": [
    {
     "name": "stdout",
     "output_type": "stream",
     "text": [
      "There are 16 numeric and 5 categorical columns in churn data\n"
     ]
    }
   ],
   "source": [
    "print(\"There are {} numeric and {} categorical columns in churn data\".format(churn.select_dtypes(include=[np.number]).shape[1],churn.select_dtypes(exclude=[np.number]).shape[1]))"
   ]
  },
  {
   "cell_type": "code",
   "execution_count": 8,
   "metadata": {},
   "outputs": [
    {
     "data": {
      "text/html": [
       "<div>\n",
       "<style scoped>\n",
       "    .dataframe tbody tr th:only-of-type {\n",
       "        vertical-align: middle;\n",
       "    }\n",
       "\n",
       "    .dataframe tbody tr th {\n",
       "        vertical-align: top;\n",
       "    }\n",
       "\n",
       "    .dataframe thead th {\n",
       "        text-align: right;\n",
       "    }\n",
       "</style>\n",
       "<table border=\"1\" class=\"dataframe\">\n",
       "  <thead>\n",
       "    <tr style=\"text-align: right;\">\n",
       "      <th></th>\n",
       "      <th>State</th>\n",
       "      <th>Phone</th>\n",
       "      <th>Int'l Plan</th>\n",
       "      <th>VMail Plan</th>\n",
       "      <th>Churn?</th>\n",
       "    </tr>\n",
       "  </thead>\n",
       "  <tbody>\n",
       "    <tr>\n",
       "      <th>0</th>\n",
       "      <td>KS</td>\n",
       "      <td>382-4657</td>\n",
       "      <td>no</td>\n",
       "      <td>yes</td>\n",
       "      <td>False.</td>\n",
       "    </tr>\n",
       "    <tr>\n",
       "      <th>1</th>\n",
       "      <td>OH</td>\n",
       "      <td>371-7191</td>\n",
       "      <td>no</td>\n",
       "      <td>yes</td>\n",
       "      <td>False.</td>\n",
       "    </tr>\n",
       "    <tr>\n",
       "      <th>2</th>\n",
       "      <td>NJ</td>\n",
       "      <td>358-1921</td>\n",
       "      <td>no</td>\n",
       "      <td>no</td>\n",
       "      <td>False.</td>\n",
       "    </tr>\n",
       "    <tr>\n",
       "      <th>3</th>\n",
       "      <td>OH</td>\n",
       "      <td>375-9999</td>\n",
       "      <td>yes</td>\n",
       "      <td>no</td>\n",
       "      <td>False.</td>\n",
       "    </tr>\n",
       "    <tr>\n",
       "      <th>4</th>\n",
       "      <td>OK</td>\n",
       "      <td>330-6626</td>\n",
       "      <td>yes</td>\n",
       "      <td>no</td>\n",
       "      <td>False.</td>\n",
       "    </tr>\n",
       "  </tbody>\n",
       "</table>\n",
       "</div>"
      ],
      "text/plain": [
       "  State     Phone Int'l Plan VMail Plan  Churn?\n",
       "0    KS  382-4657         no        yes  False.\n",
       "1    OH  371-7191         no        yes  False.\n",
       "2    NJ  358-1921         no         no  False.\n",
       "3    OH  375-9999        yes         no  False.\n",
       "4    OK  330-6626        yes         no  False."
      ]
     },
     "execution_count": 8,
     "metadata": {},
     "output_type": "execute_result"
    }
   ],
   "source": [
    "churn.select_dtypes(exclude=[np.number]).head()"
   ]
  },
  {
   "cell_type": "markdown",
   "metadata": {},
   "source": [
    "The columns \"state\" and \"phone\" are not usefull in perdicting the target variable "
   ]
  },
  {
   "cell_type": "markdown",
   "metadata": {},
   "source": [
    "### Data Preprocessing"
   ]
  },
  {
   "cell_type": "code",
   "execution_count": 9,
   "metadata": {
    "collapsed": true
   },
   "outputs": [],
   "source": [
    "X=churn.iloc[:,4:20].values\n",
    "Y=churn.iloc[:, 20].values\n"
   ]
  },
  {
   "cell_type": "markdown",
   "metadata": {},
   "source": [
    "converting catagorical data to numeric (using Label Encoding)"
   ]
  },
  {
   "cell_type": "code",
   "execution_count": 10,
   "metadata": {
    "collapsed": true
   },
   "outputs": [],
   "source": [
    "from sklearn.preprocessing import LabelEncoder\n",
    "labelencoder_X_1 = LabelEncoder()\n",
    "X[:, 0] = labelencoder_X_1.fit_transform(X[:, 0])\n",
    "labelencoder_X_2 = LabelEncoder()\n",
    "X[:, 1] = labelencoder_X_2.fit_transform(X[:, 1])\n",
    "labelencoder_Y=LabelEncoder()\n",
    "Y=labelencoder_Y.fit_transform(Y)\n"
   ]
  },
  {
   "cell_type": "markdown",
   "metadata": {},
   "source": [
    "Visualizing the correlation of data"
   ]
  },
  {
   "cell_type": "code",
   "execution_count": 11,
   "metadata": {},
   "outputs": [
    {
     "data": {
      "text/plain": [
       "<matplotlib.axes._subplots.AxesSubplot at 0x3f2cab8630>"
      ]
     },
     "execution_count": 11,
     "metadata": {},
     "output_type": "execute_result"
    },
    {
     "data": {
      "image/png": "[encoded data removed]",
      "text/plain": [
       "<matplotlib.figure.Figure at 0x3f2b8a5160>"
      ]
     },
     "metadata": {},
     "output_type": "display_data"
    }
   ],
   "source": [
    "cor=churn.corr()\n",
    "sns.heatmap(cor)"
   ]
  },
  {
   "cell_type": "markdown",
   "metadata": {
    "collapsed": true
   },
   "source": [
    "Scaling data by Standerd Scaler"
   ]
  },
  {
   "cell_type": "code",
   "execution_count": 12,
   "metadata": {},
   "outputs": [
    {
     "name": "stderr",
     "output_type": "stream",
     "text": [
      "C:\\Users\\hp pc\\Anaconda3\\lib\\site-packages\\sklearn\\utils\\validation.py:444: DataConversionWarning: Data with input dtype object was converted to float64 by StandardScaler.\n",
      "  warnings.warn(msg, DataConversionWarning)\n",
      "C:\\Users\\hp pc\\Anaconda3\\lib\\site-packages\\sklearn\\utils\\validation.py:444: DataConversionWarning: Data with input dtype object was converted to float64 by StandardScaler.\n",
      "  warnings.warn(msg, DataConversionWarning)\n"
     ]
    }
   ],
   "source": [
    "from sklearn.preprocessing import StandardScaler\n",
    "sc=StandardScaler()\n",
    "X=sc.fit_transform(X)"
   ]
  },
  {
   "cell_type": "markdown",
   "metadata": {},
   "source": [
    "As you can see the DataConversionWarning it means our Data is know Scaled. lets visualize it."
   ]
  },
  {
   "cell_type": "code",
   "execution_count": 13,
   "metadata": {},
   "outputs": [
    {
     "data": {
      "text/plain": [
       "array([[-0.32758048,  1.6170861 ,  1.23488274, ..., -0.60119509,\n",
       "        -0.0856905 , -0.42793202],\n",
       "       [-0.32758048,  1.6170861 ,  1.30794844, ..., -0.60119509,\n",
       "         1.2411686 , -0.42793202],\n",
       "       [-0.32758048, -0.61839626, -0.59175986, ...,  0.21153386,\n",
       "         0.69715637, -1.1882185 ],\n",
       "       ..., \n",
       "       [-0.32758048, -0.61839626, -0.59175986, ...,  0.61789834,\n",
       "         1.3871231 ,  0.33235445],\n",
       "       [ 3.05268496, -0.61839626, -0.59175986, ...,  2.24335625,\n",
       "        -1.87695028,  0.33235445],\n",
       "       [-0.32758048,  1.6170861 ,  1.23488274, ..., -0.19483061,\n",
       "         1.2411686 , -1.1882185 ]])"
      ]
     },
     "execution_count": 13,
     "metadata": {},
     "output_type": "execute_result"
    }
   ],
   "source": [
    "X"
   ]
  },
  {
   "cell_type": "markdown",
   "metadata": {},
   "source": [
    "### Training model "
   ]
  },
  {
   "cell_type": "code",
   "execution_count": 14,
   "metadata": {},
   "outputs": [
    {
     "name": "stderr",
     "output_type": "stream",
     "text": [
      "Using TensorFlow backend.\n"
     ]
    }
   ],
   "source": [
    "#importing labrararies for Artifical Nural network\n",
    "from keras.models import Sequential\n",
    "from keras.layers import Dense\n",
    "from keras.layers import Dropout\n",
    "from keras import regularizers"
   ]
  },
  {
   "cell_type": "markdown",
   "metadata": {},
   "source": [
    "Making objects of our Classifier"
   ]
  },
  {
   "cell_type": "code",
   "execution_count": 15,
   "metadata": {
    "collapsed": true
   },
   "outputs": [],
   "source": [
    "clf=Sequential()"
   ]
  },
  {
   "cell_type": "markdown",
   "metadata": {},
   "source": [
    "Building Layers for our ANN"
   ]
  },
  {
   "cell_type": "code",
   "execution_count": 16,
   "metadata": {
    "collapsed": true
   },
   "outputs": [],
   "source": [
    "#adding layers to ANN\n",
    "clf.add(Dense(units=24,activation=\"relu\",kernel_initializer=\"uniform\",kernel_regularizer=regularizers.l2(0.001),input_dim=16))\n",
    "#adding two more hidden layer to ANN\n",
    "clf.add(Dense(units=24,activation=\"relu\",kernel_initializer=\"uniform\",kernel_regularizer=regularizers.l2(0.001)))\n",
    "clf.add(Dense(units=24,activation=\"relu\",kernel_initializer=\"uniform\",kernel_regularizer=regularizers.l2(0.001)))\n",
    "#adding output layer\n",
    "clf.add(Dense(units=1,activation=\"sigmoid\",kernel_initializer=\"uniform\"))\n",
    "#compiling ANN\n",
    "clf.compile(optimizer='adam',loss='binary_crossentropy',metrics=['accuracy'])\n"
   ]
  },
  {
   "cell_type": "markdown",
   "metadata": {},
   "source": [
    "Fitting ANN"
   ]
  },
  {
   "cell_type": "code",
   "execution_count": 18,
   "metadata": {},
   "outputs": [
    {
     "name": "stdout",
     "output_type": "stream",
     "text": [
      "Epoch 1/250\n",
      "3333/3333 [==============================] - 0s 81us/step - loss: 0.1912 - acc: 0.9487\n",
      "Epoch 2/250\n",
      "3333/3333 [==============================] - 0s 75us/step - loss: 0.1950 - acc: 0.9460\n",
      "Epoch 3/250\n",
      "3333/3333 [==============================] - 0s 74us/step - loss: 0.1895 - acc: 0.9490\n",
      "Epoch 4/250\n",
      "3333/3333 [==============================] - 0s 75us/step - loss: 0.1892 - acc: 0.9487\n",
      "Epoch 5/250\n",
      "3333/3333 [==============================] - 0s 71us/step - loss: 0.1890 - acc: 0.9448\n",
      "Epoch 6/250\n",
      "3333/3333 [==============================] - 0s 91us/step - loss: 0.1904 - acc: 0.9499\n",
      "Epoch 7/250\n",
      "3333/3333 [==============================] - 0s 89us/step - loss: 0.1877 - acc: 0.9466\n",
      "Epoch 8/250\n",
      "3333/3333 [==============================] - 0s 89us/step - loss: 0.1883 - acc: 0.9466\n",
      "Epoch 9/250\n",
      "3333/3333 [==============================] - 0s 86us/step - loss: 0.1868 - acc: 0.9478\n",
      "Epoch 10/250\n",
      "3333/3333 [==============================] - 0s 86us/step - loss: 0.1865 - acc: 0.9487\n",
      "Epoch 11/250\n",
      "3333/3333 [==============================] - 0s 83us/step - loss: 0.1883 - acc: 0.9472\n",
      "Epoch 12/250\n",
      "3333/3333 [==============================] - 0s 79us/step - loss: 0.1910 - acc: 0.9463\n",
      "Epoch 13/250\n",
      "3333/3333 [==============================] - 0s 77us/step - loss: 0.1851 - acc: 0.9496\n",
      "Epoch 14/250\n",
      "3333/3333 [==============================] - 0s 83us/step - loss: 0.1865 - acc: 0.9499\n",
      "Epoch 15/250\n",
      "3333/3333 [==============================] - 0s 80us/step - loss: 0.1855 - acc: 0.9478\n",
      "Epoch 16/250\n",
      "3333/3333 [==============================] - 0s 83us/step - loss: 0.1837 - acc: 0.9487\n",
      "Epoch 17/250\n",
      "3333/3333 [==============================] - 0s 82us/step - loss: 0.1852 - acc: 0.9484\n",
      "Epoch 18/250\n",
      "3333/3333 [==============================] - 0s 94us/step - loss: 0.1826 - acc: 0.9493\n",
      "Epoch 19/250\n",
      "3333/3333 [==============================] - 0s 86us/step - loss: 0.1828 - acc: 0.9481\n",
      "Epoch 20/250\n",
      "3333/3333 [==============================] - 0s 77us/step - loss: 0.1817 - acc: 0.9484\n",
      "Epoch 21/250\n",
      "3333/3333 [==============================] - 0s 78us/step - loss: 0.1816 - acc: 0.9499\n",
      "Epoch 22/250\n",
      "3333/3333 [==============================] - 0s 77us/step - loss: 0.1841 - acc: 0.9475\n",
      "Epoch 23/250\n",
      "3333/3333 [==============================] - 0s 78us/step - loss: 0.1788 - acc: 0.9484\n",
      "Epoch 24/250\n",
      "3333/3333 [==============================] - 0s 102us/step - loss: 0.1820 - acc: 0.9526\n",
      "Epoch 25/250\n",
      "3333/3333 [==============================] - 0s 107us/step - loss: 0.1808 - acc: 0.9505\n",
      "Epoch 26/250\n",
      "3333/3333 [==============================] - 0s 102us/step - loss: 0.1789 - acc: 0.9505\n",
      "Epoch 27/250\n",
      "3333/3333 [==============================] - 0s 107us/step - loss: 0.1794 - acc: 0.9505\n",
      "Epoch 28/250\n",
      "3333/3333 [==============================] - 0s 85us/step - loss: 0.1775 - acc: 0.9511\n",
      "Epoch 29/250\n",
      "3333/3333 [==============================] - ETA: 0s - loss: 0.1759 - acc: 0.956 - 0s 74us/step - loss: 0.1781 - acc: 0.9529\n",
      "Epoch 30/250\n",
      "3333/3333 [==============================] - 0s 77us/step - loss: 0.1771 - acc: 0.9547\n",
      "Epoch 31/250\n",
      "3333/3333 [==============================] - 0s 74us/step - loss: 0.1764 - acc: 0.9502\n",
      "Epoch 32/250\n",
      "3333/3333 [==============================] - 0s 79us/step - loss: 0.1780 - acc: 0.9499\n",
      "Epoch 33/250\n",
      "3333/3333 [==============================] - 0s 77us/step - loss: 0.1771 - acc: 0.9532\n",
      "Epoch 34/250\n",
      "3333/3333 [==============================] - 0s 73us/step - loss: 0.1751 - acc: 0.9535\n",
      "Epoch 35/250\n",
      "3333/3333 [==============================] - 0s 82us/step - loss: 0.1743 - acc: 0.9529\n",
      "Epoch 36/250\n",
      "3333/3333 [==============================] - 0s 75us/step - loss: 0.1738 - acc: 0.9541\n",
      "Epoch 37/250\n",
      "3333/3333 [==============================] - 0s 78us/step - loss: 0.1747 - acc: 0.9529\n",
      "Epoch 38/250\n",
      "3333/3333 [==============================] - 0s 79us/step - loss: 0.1728 - acc: 0.9550\n",
      "Epoch 39/250\n",
      "3333/3333 [==============================] - 0s 76us/step - loss: 0.1756 - acc: 0.9517\n",
      "Epoch 40/250\n",
      "3333/3333 [==============================] - 0s 75us/step - loss: 0.1735 - acc: 0.9544\n",
      "Epoch 41/250\n",
      "3333/3333 [==============================] - 0s 94us/step - loss: 0.1770 - acc: 0.9514\n",
      "Epoch 42/250\n",
      "3333/3333 [==============================] - 0s 98us/step - loss: 0.1758 - acc: 0.9502\n",
      "Epoch 43/250\n",
      "3333/3333 [==============================] - 0s 90us/step - loss: 0.1739 - acc: 0.9553\n",
      "Epoch 44/250\n",
      "3333/3333 [==============================] - 0s 90us/step - loss: 0.1727 - acc: 0.9553\n",
      "Epoch 45/250\n",
      "3333/3333 [==============================] - 0s 92us/step - loss: 0.1689 - acc: 0.9568\n",
      "Epoch 46/250\n",
      "3333/3333 [==============================] - 0s 88us/step - loss: 0.1710 - acc: 0.9544\n",
      "Epoch 47/250\n",
      "3333/3333 [==============================] - 0s 73us/step - loss: 0.1680 - acc: 0.9568\n",
      "Epoch 48/250\n",
      "3333/3333 [==============================] - 0s 76us/step - loss: 0.1679 - acc: 0.9544\n",
      "Epoch 49/250\n",
      "3333/3333 [==============================] - 0s 74us/step - loss: 0.1661 - acc: 0.9586\n",
      "Epoch 50/250\n",
      "3333/3333 [==============================] - 0s 76us/step - loss: 0.1700 - acc: 0.9553\n",
      "Epoch 51/250\n",
      "3333/3333 [==============================] - 0s 76us/step - loss: 0.1670 - acc: 0.9529\n",
      "Epoch 52/250\n",
      "3333/3333 [==============================] - ETA: 0s - loss: 0.1746 - acc: 0.952 - 0s 78us/step - loss: 0.1685 - acc: 0.9550\n",
      "Epoch 53/250\n",
      "3333/3333 [==============================] - 0s 74us/step - loss: 0.1650 - acc: 0.9601\n",
      "Epoch 54/250\n",
      "3333/3333 [==============================] - 0s 82us/step - loss: 0.1645 - acc: 0.9571\n",
      "Epoch 55/250\n",
      "3333/3333 [==============================] - 0s 76us/step - loss: 0.1648 - acc: 0.9565\n",
      "Epoch 56/250\n",
      "3333/3333 [==============================] - 0s 77us/step - loss: 0.1667 - acc: 0.9550\n",
      "Epoch 57/250\n",
      "3333/3333 [==============================] - 0s 83us/step - loss: 0.1676 - acc: 0.9553\n",
      "Epoch 58/250\n",
      "3333/3333 [==============================] - 0s 87us/step - loss: 0.1629 - acc: 0.9565\n",
      "Epoch 59/250\n",
      "3333/3333 [==============================] - 0s 87us/step - loss: 0.1598 - acc: 0.9568\n",
      "Epoch 60/250\n",
      "3333/3333 [==============================] - 0s 96us/step - loss: 0.1607 - acc: 0.9589\n",
      "Epoch 61/250\n",
      "3333/3333 [==============================] - 0s 91us/step - loss: 0.1626 - acc: 0.9574\n",
      "Epoch 62/250\n",
      "3333/3333 [==============================] - 0s 92us/step - loss: 0.1619 - acc: 0.9541\n",
      "Epoch 63/250\n",
      "3333/3333 [==============================] - 0s 98us/step - loss: 0.1606 - acc: 0.9586\n",
      "Epoch 64/250\n",
      "3333/3333 [==============================] - 0s 101us/step - loss: 0.1619 - acc: 0.9568\n",
      "Epoch 65/250\n",
      "3333/3333 [==============================] - 0s 100us/step - loss: 0.1592 - acc: 0.9592\n",
      "Epoch 66/250\n",
      "3333/3333 [==============================] - 0s 97us/step - loss: 0.1571 - acc: 0.9595\n",
      "Epoch 67/250\n",
      "3333/3333 [==============================] - 0s 100us/step - loss: 0.1628 - acc: 0.9571\n",
      "Epoch 68/250\n",
      "3333/3333 [==============================] - 0s 94us/step - loss: 0.1597 - acc: 0.9583\n",
      "Epoch 69/250\n",
      "3333/3333 [==============================] - 0s 96us/step - loss: 0.1564 - acc: 0.9565\n",
      "Epoch 70/250\n",
      "3333/3333 [==============================] - 0s 95us/step - loss: 0.1569 - acc: 0.9598\n",
      "Epoch 71/250\n",
      "3333/3333 [==============================] - 0s 92us/step - loss: 0.1590 - acc: 0.9559\n",
      "Epoch 72/250\n",
      "3333/3333 [==============================] - 0s 97us/step - loss: 0.1555 - acc: 0.9586\n",
      "Epoch 73/250\n",
      "3333/3333 [==============================] - 0s 96us/step - loss: 0.1556 - acc: 0.9571\n",
      "Epoch 74/250\n",
      "3333/3333 [==============================] - 0s 94us/step - loss: 0.1574 - acc: 0.9592\n",
      "Epoch 75/250\n",
      "3333/3333 [==============================] - 0s 92us/step - loss: 0.1581 - acc: 0.9580\n",
      "Epoch 76/250\n",
      "3333/3333 [==============================] - 0s 94us/step - loss: 0.1553 - acc: 0.9592\n",
      "Epoch 77/250\n",
      "3333/3333 [==============================] - 0s 103us/step - loss: 0.1575 - acc: 0.9586\n",
      "Epoch 78/250\n",
      "3333/3333 [==============================] - 0s 88us/step - loss: 0.1582 - acc: 0.9583\n",
      "Epoch 79/250\n",
      "3333/3333 [==============================] - 0s 79us/step - loss: 0.1570 - acc: 0.9571\n",
      "Epoch 80/250\n",
      "3333/3333 [==============================] - 0s 79us/step - loss: 0.1555 - acc: 0.9592\n",
      "Epoch 81/250\n",
      "3333/3333 [==============================] - 0s 77us/step - loss: 0.1545 - acc: 0.9586\n",
      "Epoch 82/250\n"
     ]
    },
    {
     "name": "stdout",
     "output_type": "stream",
     "text": [
      "3333/3333 [==============================] - 0s 72us/step - loss: 0.1580 - acc: 0.9577\n",
      "Epoch 83/250\n",
      "3333/3333 [==============================] - 0s 61us/step - loss: 0.1520 - acc: 0.9607\n",
      "Epoch 84/250\n",
      "3333/3333 [==============================] - 0s 62us/step - loss: 0.1525 - acc: 0.9580\n",
      "Epoch 85/250\n",
      "3333/3333 [==============================] - 0s 63us/step - loss: 0.1554 - acc: 0.9592\n",
      "Epoch 86/250\n",
      "3333/3333 [==============================] - 0s 67us/step - loss: 0.1606 - acc: 0.9514\n",
      "Epoch 87/250\n",
      "3333/3333 [==============================] - 0s 63us/step - loss: 0.1545 - acc: 0.9607\n",
      "Epoch 88/250\n",
      "3333/3333 [==============================] - 0s 63us/step - loss: 0.1521 - acc: 0.9598\n",
      "Epoch 89/250\n",
      "3333/3333 [==============================] - 0s 64us/step - loss: 0.1527 - acc: 0.9592\n",
      "Epoch 90/250\n",
      "3333/3333 [==============================] - 0s 66us/step - loss: 0.1545 - acc: 0.9595\n",
      "Epoch 91/250\n",
      "3333/3333 [==============================] - 0s 68us/step - loss: 0.1533 - acc: 0.9607\n",
      "Epoch 92/250\n",
      "3333/3333 [==============================] - 0s 64us/step - loss: 0.1526 - acc: 0.9610\n",
      "Epoch 93/250\n",
      "3333/3333 [==============================] - 0s 58us/step - loss: 0.1559 - acc: 0.9583\n",
      "Epoch 94/250\n",
      "3333/3333 [==============================] - 0s 69us/step - loss: 0.1520 - acc: 0.9610\n",
      "Epoch 95/250\n",
      "3333/3333 [==============================] - 0s 61us/step - loss: 0.1525 - acc: 0.9607\n",
      "Epoch 96/250\n",
      "3333/3333 [==============================] - 0s 66us/step - loss: 0.1504 - acc: 0.9610\n",
      "Epoch 97/250\n",
      "3333/3333 [==============================] - 0s 67us/step - loss: 0.1519 - acc: 0.9574\n",
      "Epoch 98/250\n",
      "3333/3333 [==============================] - 0s 74us/step - loss: 0.1513 - acc: 0.9607\n",
      "Epoch 99/250\n",
      "3333/3333 [==============================] - 0s 62us/step - loss: 0.1521 - acc: 0.9583\n",
      "Epoch 100/250\n",
      "3333/3333 [==============================] - 0s 65us/step - loss: 0.1551 - acc: 0.9592\n",
      "Epoch 101/250\n",
      "3333/3333 [==============================] - 0s 72us/step - loss: 0.1506 - acc: 0.9598\n",
      "Epoch 102/250\n",
      "3333/3333 [==============================] - 0s 62us/step - loss: 0.1541 - acc: 0.9592\n",
      "Epoch 103/250\n",
      "3333/3333 [==============================] - 0s 62us/step - loss: 0.1493 - acc: 0.9607\n",
      "Epoch 104/250\n",
      "3333/3333 [==============================] - 0s 70us/step - loss: 0.1493 - acc: 0.9586\n",
      "Epoch 105/250\n",
      "3333/3333 [==============================] - 0s 61us/step - loss: 0.1513 - acc: 0.9583\n",
      "Epoch 106/250\n",
      "3333/3333 [==============================] - 0s 64us/step - loss: 0.1459 - acc: 0.9640\n",
      "Epoch 107/250\n",
      "3333/3333 [==============================] - 0s 62us/step - loss: 0.1491 - acc: 0.9601\n",
      "Epoch 108/250\n",
      "3333/3333 [==============================] - 0s 63us/step - loss: 0.1521 - acc: 0.9607\n",
      "Epoch 109/250\n",
      "3333/3333 [==============================] - 0s 61us/step - loss: 0.1501 - acc: 0.9619\n",
      "Epoch 110/250\n",
      "3333/3333 [==============================] - 0s 66us/step - loss: 0.1513 - acc: 0.9622\n",
      "Epoch 111/250\n",
      "3333/3333 [==============================] - 0s 64us/step - loss: 0.1488 - acc: 0.9643\n",
      "Epoch 112/250\n",
      "3333/3333 [==============================] - 0s 73us/step - loss: 0.1504 - acc: 0.9580\n",
      "Epoch 113/250\n",
      "3333/3333 [==============================] - 0s 61us/step - loss: 0.1512 - acc: 0.9601\n",
      "Epoch 114/250\n",
      "3333/3333 [==============================] - 0s 67us/step - loss: 0.1462 - acc: 0.9640\n",
      "Epoch 115/250\n",
      "3333/3333 [==============================] - 0s 60us/step - loss: 0.1472 - acc: 0.9604\n",
      "Epoch 116/250\n",
      "3333/3333 [==============================] - 0s 65us/step - loss: 0.1493 - acc: 0.9592\n",
      "Epoch 117/250\n",
      "3333/3333 [==============================] - 0s 67us/step - loss: 0.1461 - acc: 0.9610\n",
      "Epoch 118/250\n",
      "3333/3333 [==============================] - 0s 66us/step - loss: 0.1473 - acc: 0.9613\n",
      "Epoch 119/250\n",
      "3333/3333 [==============================] - 0s 65us/step - loss: 0.1479 - acc: 0.9631\n",
      "Epoch 120/250\n",
      "3333/3333 [==============================] - 0s 73us/step - loss: 0.1486 - acc: 0.9628\n",
      "Epoch 121/250\n",
      "3333/3333 [==============================] - 0s 68us/step - loss: 0.1487 - acc: 0.9613\n",
      "Epoch 122/250\n",
      "3333/3333 [==============================] - 0s 67us/step - loss: 0.1472 - acc: 0.9601\n",
      "Epoch 123/250\n",
      "3333/3333 [==============================] - 0s 65us/step - loss: 0.1470 - acc: 0.9628\n",
      "Epoch 124/250\n",
      "3333/3333 [==============================] - 0s 76us/step - loss: 0.1488 - acc: 0.9607\n",
      "Epoch 125/250\n",
      "3333/3333 [==============================] - 0s 82us/step - loss: 0.1447 - acc: 0.9622\n",
      "Epoch 126/250\n",
      "3333/3333 [==============================] - 0s 108us/step - loss: 0.1466 - acc: 0.9613\n",
      "Epoch 127/250\n",
      "3333/3333 [==============================] - 0s 77us/step - loss: 0.1475 - acc: 0.9598\n",
      "Epoch 128/250\n",
      "3333/3333 [==============================] - 0s 76us/step - loss: 0.1440 - acc: 0.9625\n",
      "Epoch 129/250\n",
      "3333/3333 [==============================] - 0s 79us/step - loss: 0.1445 - acc: 0.9646\n",
      "Epoch 130/250\n",
      "3333/3333 [==============================] - 0s 84us/step - loss: 0.1449 - acc: 0.9604\n",
      "Epoch 131/250\n",
      "3333/3333 [==============================] - 0s 80us/step - loss: 0.1451 - acc: 0.9610\n",
      "Epoch 132/250\n",
      "3333/3333 [==============================] - 0s 73us/step - loss: 0.1459 - acc: 0.9619\n",
      "Epoch 133/250\n",
      "3333/3333 [==============================] - 0s 71us/step - loss: 0.1455 - acc: 0.9622\n",
      "Epoch 134/250\n",
      "3333/3333 [==============================] - 0s 71us/step - loss: 0.1463 - acc: 0.9613\n",
      "Epoch 135/250\n",
      "3333/3333 [==============================] - 0s 71us/step - loss: 0.1504 - acc: 0.9607\n",
      "Epoch 136/250\n",
      "3333/3333 [==============================] - 0s 71us/step - loss: 0.1446 - acc: 0.9625\n",
      "Epoch 137/250\n",
      "3333/3333 [==============================] - 0s 70us/step - loss: 0.1457 - acc: 0.9583\n",
      "Epoch 138/250\n",
      "3333/3333 [==============================] - 0s 70us/step - loss: 0.1439 - acc: 0.9616\n",
      "Epoch 139/250\n",
      "3333/3333 [==============================] - 0s 76us/step - loss: 0.1473 - acc: 0.9625\n",
      "Epoch 140/250\n",
      "3333/3333 [==============================] - 0s 71us/step - loss: 0.1432 - acc: 0.9622\n",
      "Epoch 141/250\n",
      "3333/3333 [==============================] - 0s 61us/step - loss: 0.1510 - acc: 0.9589\n",
      "Epoch 142/250\n",
      "3333/3333 [==============================] - 0s 60us/step - loss: 0.1437 - acc: 0.9622\n",
      "Epoch 143/250\n",
      "3333/3333 [==============================] - 0s 61us/step - loss: 0.1442 - acc: 0.9625\n",
      "Epoch 144/250\n",
      "3333/3333 [==============================] - 0s 60us/step - loss: 0.1424 - acc: 0.9604\n",
      "Epoch 145/250\n",
      "3333/3333 [==============================] - 0s 66us/step - loss: 0.1457 - acc: 0.9616\n",
      "Epoch 146/250\n",
      "3333/3333 [==============================] - 0s 60us/step - loss: 0.1461 - acc: 0.9613\n",
      "Epoch 147/250\n",
      "3333/3333 [==============================] - 0s 60us/step - loss: 0.1439 - acc: 0.9610\n",
      "Epoch 148/250\n",
      "3333/3333 [==============================] - 0s 66us/step - loss: 0.1469 - acc: 0.9574\n",
      "Epoch 149/250\n",
      "3333/3333 [==============================] - 0s 64us/step - loss: 0.1424 - acc: 0.9631\n",
      "Epoch 150/250\n",
      "3333/3333 [==============================] - 0s 64us/step - loss: 0.1470 - acc: 0.9589\n",
      "Epoch 151/250\n",
      "3333/3333 [==============================] - 0s 60us/step - loss: 0.1438 - acc: 0.9637\n",
      "Epoch 152/250\n",
      "3333/3333 [==============================] - 0s 62us/step - loss: 0.1456 - acc: 0.9622\n",
      "Epoch 153/250\n",
      "3333/3333 [==============================] - 0s 61us/step - loss: 0.1441 - acc: 0.9619\n",
      "Epoch 154/250\n",
      "3333/3333 [==============================] - 0s 62us/step - loss: 0.1422 - acc: 0.9625\n",
      "Epoch 155/250\n",
      "3333/3333 [==============================] - 0s 62us/step - loss: 0.1425 - acc: 0.9634\n",
      "Epoch 156/250\n",
      "3333/3333 [==============================] - 0s 62us/step - loss: 0.1420 - acc: 0.9616\n",
      "Epoch 157/250\n",
      "3333/3333 [==============================] - 0s 65us/step - loss: 0.1422 - acc: 0.9628\n",
      "Epoch 158/250\n",
      "3333/3333 [==============================] - 0s 60us/step - loss: 0.1415 - acc: 0.9619\n",
      "Epoch 159/250\n",
      "3333/3333 [==============================] - 0s 60us/step - loss: 0.1388 - acc: 0.9655\n",
      "Epoch 160/250\n",
      "3333/3333 [==============================] - 0s 66us/step - loss: 0.1419 - acc: 0.9619\n",
      "Epoch 161/250\n",
      "3333/3333 [==============================] - 0s 62us/step - loss: 0.1426 - acc: 0.9658\n",
      "Epoch 162/250\n",
      "3333/3333 [==============================] - 0s 61us/step - loss: 0.1407 - acc: 0.9646\n",
      "Epoch 163/250\n"
     ]
    },
    {
     "name": "stdout",
     "output_type": "stream",
     "text": [
      "3333/3333 [==============================] - 0s 63us/step - loss: 0.1409 - acc: 0.9631\n",
      "Epoch 164/250\n",
      "3333/3333 [==============================] - 0s 59us/step - loss: 0.1447 - acc: 0.9613\n",
      "Epoch 165/250\n",
      "3333/3333 [==============================] - 0s 58us/step - loss: 0.1430 - acc: 0.9628\n",
      "Epoch 166/250\n",
      "3333/3333 [==============================] - 0s 58us/step - loss: 0.1431 - acc: 0.9634\n",
      "Epoch 167/250\n",
      "3333/3333 [==============================] - 0s 61us/step - loss: 0.1414 - acc: 0.9643\n",
      "Epoch 168/250\n",
      "3333/3333 [==============================] - 0s 58us/step - loss: 0.1430 - acc: 0.9628\n",
      "Epoch 169/250\n",
      "3333/3333 [==============================] - 0s 61us/step - loss: 0.1388 - acc: 0.9658\n",
      "Epoch 170/250\n",
      "3333/3333 [==============================] - 0s 61us/step - loss: 0.1419 - acc: 0.9631\n",
      "Epoch 171/250\n",
      "3333/3333 [==============================] - 0s 58us/step - loss: 0.1405 - acc: 0.9631\n",
      "Epoch 172/250\n",
      "3333/3333 [==============================] - 0s 61us/step - loss: 0.1410 - acc: 0.9658\n",
      "Epoch 173/250\n",
      "3333/3333 [==============================] - 0s 58us/step - loss: 0.1428 - acc: 0.9622\n",
      "Epoch 174/250\n",
      "3333/3333 [==============================] - 0s 61us/step - loss: 0.1449 - acc: 0.9637\n",
      "Epoch 175/250\n",
      "3333/3333 [==============================] - 0s 59us/step - loss: 0.1389 - acc: 0.9622\n",
      "Epoch 176/250\n",
      "3333/3333 [==============================] - 0s 62us/step - loss: 0.1409 - acc: 0.9637\n",
      "Epoch 177/250\n",
      "3333/3333 [==============================] - 0s 58us/step - loss: 0.1403 - acc: 0.9634\n",
      "Epoch 178/250\n",
      "3333/3333 [==============================] - 0s 59us/step - loss: 0.1412 - acc: 0.9634\n",
      "Epoch 179/250\n",
      "3333/3333 [==============================] - 0s 60us/step - loss: 0.1397 - acc: 0.9619\n",
      "Epoch 180/250\n",
      "3333/3333 [==============================] - 0s 60us/step - loss: 0.1376 - acc: 0.9667\n",
      "Epoch 181/250\n",
      "3333/3333 [==============================] - 0s 58us/step - loss: 0.1404 - acc: 0.9643\n",
      "Epoch 182/250\n",
      "3333/3333 [==============================] - 0s 58us/step - loss: 0.1417 - acc: 0.9637\n",
      "Epoch 183/250\n",
      "3333/3333 [==============================] - 0s 58us/step - loss: 0.1368 - acc: 0.9661\n",
      "Epoch 184/250\n",
      "3333/3333 [==============================] - 0s 58us/step - loss: 0.1366 - acc: 0.9640\n",
      "Epoch 185/250\n",
      "3333/3333 [==============================] - 0s 58us/step - loss: 0.1391 - acc: 0.9634\n",
      "Epoch 186/250\n",
      "3333/3333 [==============================] - 0s 61us/step - loss: 0.1383 - acc: 0.9631\n",
      "Epoch 187/250\n",
      "3333/3333 [==============================] - 0s 61us/step - loss: 0.1381 - acc: 0.9634\n",
      "Epoch 188/250\n",
      "3333/3333 [==============================] - 0s 60us/step - loss: 0.1374 - acc: 0.9625\n",
      "Epoch 189/250\n",
      "3333/3333 [==============================] - 0s 60us/step - loss: 0.1394 - acc: 0.9667\n",
      "Epoch 190/250\n",
      "3333/3333 [==============================] - 0s 60us/step - loss: 0.1407 - acc: 0.9640\n",
      "Epoch 191/250\n",
      "3333/3333 [==============================] - 0s 60us/step - loss: 0.1401 - acc: 0.9649\n",
      "Epoch 192/250\n",
      "3333/3333 [==============================] - 0s 60us/step - loss: 0.1397 - acc: 0.9658\n",
      "Epoch 193/250\n",
      "3333/3333 [==============================] - 0s 60us/step - loss: 0.1400 - acc: 0.9643\n",
      "Epoch 194/250\n",
      "3333/3333 [==============================] - 0s 61us/step - loss: 0.1377 - acc: 0.9634\n",
      "Epoch 195/250\n",
      "3333/3333 [==============================] - 0s 62us/step - loss: 0.1427 - acc: 0.9610\n",
      "Epoch 196/250\n",
      "3333/3333 [==============================] - 0s 60us/step - loss: 0.1389 - acc: 0.9637\n",
      "Epoch 197/250\n",
      "3333/3333 [==============================] - 0s 61us/step - loss: 0.1384 - acc: 0.9616\n",
      "Epoch 198/250\n",
      "3333/3333 [==============================] - 0s 60us/step - loss: 0.1371 - acc: 0.9640\n",
      "Epoch 199/250\n",
      "3333/3333 [==============================] - 0s 62us/step - loss: 0.1427 - acc: 0.9622\n",
      "Epoch 200/250\n",
      "3333/3333 [==============================] - 0s 61us/step - loss: 0.1362 - acc: 0.9655\n",
      "Epoch 201/250\n",
      "3333/3333 [==============================] - 0s 68us/step - loss: 0.1420 - acc: 0.9613\n",
      "Epoch 202/250\n",
      "3333/3333 [==============================] - 0s 77us/step - loss: 0.1370 - acc: 0.9646\n",
      "Epoch 203/250\n",
      "3333/3333 [==============================] - 0s 76us/step - loss: 0.1365 - acc: 0.9652\n",
      "Epoch 204/250\n",
      "3333/3333 [==============================] - 0s 73us/step - loss: 0.1396 - acc: 0.9661\n",
      "Epoch 205/250\n",
      "3333/3333 [==============================] - 0s 74us/step - loss: 0.1342 - acc: 0.9679\n",
      "Epoch 206/250\n",
      "3333/3333 [==============================] - 0s 82us/step - loss: 0.1393 - acc: 0.9619\n",
      "Epoch 207/250\n",
      "3333/3333 [==============================] - 0s 74us/step - loss: 0.1377 - acc: 0.9634\n",
      "Epoch 208/250\n",
      "3333/3333 [==============================] - 0s 77us/step - loss: 0.1384 - acc: 0.9631\n",
      "Epoch 209/250\n",
      "3333/3333 [==============================] - 0s 71us/step - loss: 0.1370 - acc: 0.9646\n",
      "Epoch 210/250\n",
      "3333/3333 [==============================] - 0s 73us/step - loss: 0.1392 - acc: 0.9649\n",
      "Epoch 211/250\n",
      "3333/3333 [==============================] - 0s 73us/step - loss: 0.1380 - acc: 0.9637\n",
      "Epoch 212/250\n",
      "3333/3333 [==============================] - 0s 70us/step - loss: 0.1380 - acc: 0.9649\n",
      "Epoch 213/250\n",
      "3333/3333 [==============================] - 0s 72us/step - loss: 0.1374 - acc: 0.9640\n",
      "Epoch 214/250\n",
      "3333/3333 [==============================] - 0s 87us/step - loss: 0.1375 - acc: 0.9625\n",
      "Epoch 215/250\n",
      "3333/3333 [==============================] - 0s 71us/step - loss: 0.1359 - acc: 0.9652\n",
      "Epoch 216/250\n",
      "3333/3333 [==============================] - 0s 64us/step - loss: 0.1363 - acc: 0.9661\n",
      "Epoch 217/250\n",
      "3333/3333 [==============================] - 0s 74us/step - loss: 0.1364 - acc: 0.9679\n",
      "Epoch 218/250\n",
      "3333/3333 [==============================] - 0s 101us/step - loss: 0.1402 - acc: 0.9646\n",
      "Epoch 219/250\n",
      "3333/3333 [==============================] - 0s 70us/step - loss: 0.1374 - acc: 0.9667\n",
      "Epoch 220/250\n",
      "3333/3333 [==============================] - 0s 66us/step - loss: 0.1327 - acc: 0.9661\n",
      "Epoch 221/250\n",
      "3333/3333 [==============================] - 0s 65us/step - loss: 0.1363 - acc: 0.9637\n",
      "Epoch 222/250\n",
      "3333/3333 [==============================] - 0s 65us/step - loss: 0.1377 - acc: 0.9652\n",
      "Epoch 223/250\n",
      "3333/3333 [==============================] - 0s 66us/step - loss: 0.1393 - acc: 0.9628\n",
      "Epoch 224/250\n",
      "3333/3333 [==============================] - 0s 67us/step - loss: 0.1389 - acc: 0.9634\n",
      "Epoch 225/250\n",
      "3333/3333 [==============================] - 0s 72us/step - loss: 0.1362 - acc: 0.9646\n",
      "Epoch 226/250\n",
      "3333/3333 [==============================] - 0s 68us/step - loss: 0.1337 - acc: 0.9655\n",
      "Epoch 227/250\n",
      "3333/3333 [==============================] - 0s 71us/step - loss: 0.1377 - acc: 0.9649\n",
      "Epoch 228/250\n",
      "3333/3333 [==============================] - 0s 67us/step - loss: 0.1352 - acc: 0.9658\n",
      "Epoch 229/250\n",
      "3333/3333 [==============================] - 0s 66us/step - loss: 0.1374 - acc: 0.9634\n",
      "Epoch 230/250\n",
      "3333/3333 [==============================] - 0s 67us/step - loss: 0.1368 - acc: 0.9655\n",
      "Epoch 231/250\n",
      "3333/3333 [==============================] - 0s 70us/step - loss: 0.1367 - acc: 0.9637\n",
      "Epoch 232/250\n",
      "3333/3333 [==============================] - 0s 70us/step - loss: 0.1371 - acc: 0.9634\n",
      "Epoch 233/250\n",
      "3333/3333 [==============================] - 0s 67us/step - loss: 0.1350 - acc: 0.9655\n",
      "Epoch 234/250\n",
      "3333/3333 [==============================] - 0s 71us/step - loss: 0.1348 - acc: 0.9658\n",
      "Epoch 235/250\n",
      "3333/3333 [==============================] - 0s 71us/step - loss: 0.1375 - acc: 0.9637\n",
      "Epoch 236/250\n",
      "3333/3333 [==============================] - 0s 68us/step - loss: 0.1372 - acc: 0.9613\n",
      "Epoch 237/250\n",
      "3333/3333 [==============================] - 0s 68us/step - loss: 0.1398 - acc: 0.9613\n",
      "Epoch 238/250\n",
      "3333/3333 [==============================] - 0s 68us/step - loss: 0.1332 - acc: 0.9637\n",
      "Epoch 239/250\n",
      "3333/3333 [==============================] - 0s 70us/step - loss: 0.1331 - acc: 0.9643\n",
      "Epoch 240/250\n",
      "3333/3333 [==============================] - 0s 77us/step - loss: 0.1337 - acc: 0.9634\n",
      "Epoch 241/250\n",
      "3333/3333 [==============================] - 0s 77us/step - loss: 0.1370 - acc: 0.9640\n",
      "Epoch 242/250\n",
      "3333/3333 [==============================] - 0s 77us/step - loss: 0.1384 - acc: 0.9634\n",
      "Epoch 243/250\n",
      "3333/3333 [==============================] - 0s 73us/step - loss: 0.1349 - acc: 0.9658\n",
      "Epoch 244/250\n"
     ]
    },
    {
     "name": "stdout",
     "output_type": "stream",
     "text": [
      "3333/3333 [==============================] - 0s 72us/step - loss: 0.1358 - acc: 0.9658\n",
      "Epoch 245/250\n",
      "3333/3333 [==============================] - 0s 63us/step - loss: 0.1362 - acc: 0.9649\n",
      "Epoch 246/250\n",
      "3333/3333 [==============================] - 0s 62us/step - loss: 0.1352 - acc: 0.9637\n",
      "Epoch 247/250\n",
      "3333/3333 [==============================] - 0s 61us/step - loss: 0.1332 - acc: 0.9673\n",
      "Epoch 248/250\n",
      "3333/3333 [==============================] - 0s 62us/step - loss: 0.1342 - acc: 0.9649\n",
      "Epoch 249/250\n",
      "3333/3333 [==============================] - 0s 62us/step - loss: 0.1416 - acc: 0.9622\n",
      "Epoch 250/250\n",
      "3333/3333 [==============================] - 0s 69us/step - loss: 0.1344 - acc: 0.9664\n"
     ]
    }
   ],
   "source": [
    "history=clf.fit(X,Y,batch_size=20,epochs=250)"
   ]
  },
  {
   "cell_type": "markdown",
   "metadata": {},
   "source": [
    "Displaying curves of loss and accuracy during training"
   ]
  },
  {
   "cell_type": "code",
   "execution_count": 19,
   "metadata": {},
   "outputs": [
    {
     "data": {
      "image/png": "[encoded data removed]",
      "text/plain": [
       "<matplotlib.figure.Figure at 0x3f31fead68>"
      ]
     },
     "metadata": {},
     "output_type": "display_data"
    },
    {
     "data": {
      "image/png": "[encoded data removed]",
      "text/plain": [
       "<matplotlib.figure.Figure at 0x3f31fead30>"
      ]
     },
     "metadata": {},
     "output_type": "display_data"
    }
   ],
   "source": [
    "acc = history.history['acc']\n",
    "loss = history.history['loss']\n",
    "epochs = range(1, len(acc) + 1)\n",
    "plt.plot(epochs, acc, 'bo', label='Training acc')\n",
    "plt.title('Training accuracy')\n",
    "plt.legend()\n",
    "plt.figure()\n",
    "plt.plot(epochs, loss, 'bo', label='Training loss')\n",
    "plt.title('Training loss')\n",
    "plt.legend()\n",
    "plt.show()"
   ]
  },
  {
   "cell_type": "markdown",
   "metadata": {},
   "source": [
    "we can conclude that the model got accuracy of about 97% and was still increasing at slow rate after 250 epochs"
   ]
  }
 ],
 "metadata": {
  "kernelspec": {
   "display_name": "Python 3",
   "language": "python",
   "name": "python3"
  },
  "language_info": {
   "codemirror_mode": {
    "name": "ipython",
    "version": 3
   },
   "file_extension": ".py",
   "mimetype": "text/x-python",
   "name": "python",
   "nbconvert_exporter": "python",
   "pygments_lexer": "ipython3",
   "version": "3.6.1"
  }
 },
 "nbformat": 4,
 "nbformat_minor": 2
}
